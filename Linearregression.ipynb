{
 "cells": [
  {
   "cell_type": "code",
   "execution_count": 8,
   "metadata": {},
   "outputs": [
    {
     "name": "stdout",
     "output_type": "stream",
     "text": [
      "2.477936634875316 5.048023754737786\n"
     ]
    }
   ],
   "source": [
    "import numpy as np\n",
    "\n",
    "\n",
    "true_slope = 2.5\n",
    "true_intercept = 5.0\n",
    "num_points = 50\n",
    "\n",
    "\n",
    "X = np.linspace(0, 10, num_points)\n",
    "\n",
    "noise = np.random.normal(0, 1, num_points)  \n",
    "Y = true_slope * X + true_intercept + noise\n",
    "\n",
    "# Output the generated X and Y values\n",
    "X_values = X.tolist()\n",
    "Y_values = Y.tolist()\n",
    "\n",
    "\n",
    "\n",
    "points=[(X_values[i],Y_values[i]) for i in range(len(X_values))]\n",
    "xymean=np.mean([X_values[i]*Y_values[i] for i in range(len(X_values))])\n",
    "xmean=np.mean(X_values)\n",
    "ymean=np.mean(Y_values)\n",
    "x2mean=np.mean([X_values[i]**2 for i in range(len(X_values))])\n",
    "slope=(xymean-(xmean*ymean))/(x2mean-(xmean)**2)\n",
    "c=ymean-(slope*(xmean))\n",
    "print(slope,c)\n"
   ]
  },
  {
   "cell_type": "code",
   "execution_count": 9,
   "metadata": {},
   "outputs": [],
   "source": [
    "yhat=[slope*X_values[i]+c for i in range(len(X_values))]"
   ]
  },
  {
   "cell_type": "code",
   "execution_count": 13,
   "metadata": {},
   "outputs": [],
   "source": [
    "yminusyhat=sum([(Y_values[i]-yhat[i])**2 for i in range(len(Y_values))])\n",
    "yminusymean=sum([(Y_values[i]-ymean)**2 for i in range(len(Y_values))])\n",
    "residue=1-(yminusyhat/yminusymean)"
   ]
  },
  {
   "cell_type": "code",
   "execution_count": 14,
   "metadata": {},
   "outputs": [
    {
     "data": {
      "text/plain": [
       "0.9877647780575587"
      ]
     },
     "execution_count": 14,
     "metadata": {},
     "output_type": "execute_result"
    }
   ],
   "source": [
    "residue"
   ]
  },
  {
   "cell_type": "code",
   "execution_count": null,
   "metadata": {},
   "outputs": [],
   "source": []
  },
  {
   "cell_type": "code",
   "execution_count": null,
   "metadata": {},
   "outputs": [],
   "source": []
  }
 ],
 "metadata": {
  "kernelspec": {
   "display_name": "Python 3",
   "language": "python",
   "name": "python3"
  },
  "language_info": {
   "codemirror_mode": {
    "name": "ipython",
    "version": 3
   },
   "file_extension": ".py",
   "mimetype": "text/x-python",
   "name": "python",
   "nbconvert_exporter": "python",
   "pygments_lexer": "ipython3",
   "version": "3.12.1"
  }
 },
 "nbformat": 4,
 "nbformat_minor": 2
}
