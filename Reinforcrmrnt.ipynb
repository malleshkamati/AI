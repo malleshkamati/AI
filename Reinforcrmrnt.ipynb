{
 "cells": [
  {
   "cell_type": "code",
   "execution_count": 2,
   "metadata": {},
   "outputs": [
    {
     "name": "stdout",
     "output_type": "stream",
     "text": [
      "['X', ' ', ' ', ' ', ' ', ' ', ' ', ' ', ' ']\n",
      "['X', ' ', ' ', ' ', ' ', ' ', ' ', 'O', ' ']\n",
      "['X', 'X', ' ', ' ', ' ', ' ', ' ', 'O', ' ']\n",
      "['X', 'X', ' ', ' ', ' ', 'O', ' ', 'O', ' ']\n",
      "['X', 'X', ' ', ' ', ' ', 'O', ' ', 'O', 'X']\n",
      "['X', 'X', ' ', ' ', ' ', 'O', 'O', 'O', 'X']\n",
      "['X', 'X', ' ', 'X', ' ', 'O', 'O', 'O', 'X']\n",
      "It's a draw!\n",
      "p1state: {(0,): 0, (0, 1): 0, (0, 1, 8): 0, (0, 1, 8, 3): 0}\n",
      "p2state: {(7,): 0, (7, 5): 0, (7, 5, 6): 0, (7, 5, 6, 2): 0}\n"
     ]
    },
    {
     "data": {
      "text/plain": [
       "0"
      ]
     },
     "execution_count": 2,
     "metadata": {},
     "output_type": "execute_result"
    }
   ],
   "source": [
    "import random\n",
    "\n",
    "winning = [[0, 1, 2], [3, 4, 5], [6, 7, 8], [0, 4, 8], [2, 4, 6], [0, 3, 6], [1, 4, 7], [2, 5, 8]]\n",
    "\n",
    "def check_win(ele):\n",
    "    if len(ele)<3:\n",
    "        return False\n",
    "    for state in winning:\n",
    "        for i in range(len(state) - 2):\n",
    "            if ele[i] in state:\n",
    "                if ele[i + 1] in state:\n",
    "                    if ele[i + 2] in state:\n",
    "                        return True\n",
    "    return False\n",
    "\n",
    "# Main play function\n",
    "def play():\n",
    "    board = [' '] * 9\n",
    "    p1_moves = []  # Player 1 moves\n",
    "    p2_moves = []  # Player 2 moves\n",
    "    available = list(range(9))  # Available positions\n",
    "    count = 0\n",
    "    p1state={}\n",
    "    p2state={}\n",
    "\n",
    "    while True:\n",
    "        if count % 2 == 0:\n",
    "            \n",
    "            a = random.choice(available)\n",
    "            board[a] = 'X'\n",
    "            p1_moves.append(a)\n",
    "            available.remove(a)\n",
    "            # print(f\"Player 1 moves to {a}\")\n",
    "            \n",
    "            p1state[tuple(p1_moves)]=0\n",
    "            if check_win(p1_moves):\n",
    "                print(\"Player 1 wins!\")\n",
    "                p1state[tuple(p1_moves)]=1\n",
    "                print(f\"p1state: {p1state}\")\n",
    "                print(board)\n",
    "                return 1\n",
    "        else:\n",
    "            # Player 2's move\n",
    "            a = random.choice(available)\n",
    "            board[a] = 'O'\n",
    "            p2_moves.append(a)\n",
    "            available.remove(a)\n",
    "            p2state[tuple(p2_moves)]=0\n",
    "            # print(f\"Player 2 moves to {a}\")\n",
    "            # print_board(board)\n",
    "            if check_win(p2_moves):\n",
    "                print(\"Player 2 wins!\")\n",
    "                p2state[tuple(p2_moves)]=-1\n",
    "                print(board)\n",
    "                print(f\"p2state: {p2state}\")\n",
    "                return -1\n",
    "\n",
    "        count += 1\n",
    "\n",
    "        # Check for a draw\n",
    "        if count == 8:\n",
    "            print(\"It's a draw!\")\n",
    "            print(f\"p1state: {p1state}\")\n",
    "            print(f\"p2state: {p2state}\")\n",
    "            return 0\n",
    "        print(board)\n",
    "play()\n",
    "       "
   ]
  },
  {
   "cell_type": "code",
   "execution_count": 8,
   "metadata": {},
   "outputs": [],
   "source": [
    "def divide( dividend, divisor):\n",
    "        count=0\n",
    "        rem=0\n",
    "        if dividend<0 or divisor<0:\n",
    "            divisor=abs(divisor)\n",
    "            dividend=abs(dividend)\n",
    "\n",
    "        while dividend>divisor:\n",
    "            dividend=dividend-divisor\n",
    "            count+=1\n",
    "        if dividend<0 and divisor<0:\n",
    "            ans=count\n",
    "            return ans\n",
    "        if dividend<0 or divisor<0:\n",
    "            ans=count*-1\n",
    "            print(ans)\n",
    "            return ans\n",
    "        return count"
   ]
  },
  {
   "cell_type": "code",
   "execution_count": 9,
   "metadata": {},
   "outputs": [
    {
     "data": {
      "text/plain": [
       "3"
      ]
     },
     "execution_count": 9,
     "metadata": {},
     "output_type": "execute_result"
    }
   ],
   "source": [
    "divide(10,-3)"
   ]
  },
  {
   "cell_type": "code",
   "execution_count": null,
   "metadata": {},
   "outputs": [],
   "source": []
  }
 ],
 "metadata": {
  "kernelspec": {
   "display_name": "Python 3",
   "language": "python",
   "name": "python3"
  },
  "language_info": {
   "codemirror_mode": {
    "name": "ipython",
    "version": 3
   },
   "file_extension": ".py",
   "mimetype": "text/x-python",
   "name": "python",
   "nbconvert_exporter": "python",
   "pygments_lexer": "ipython3",
   "version": "3.12.1"
  }
 },
 "nbformat": 4,
 "nbformat_minor": 2
}
