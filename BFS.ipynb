{
 "cells": [
  {
   "cell_type": "code",
   "execution_count": 2,
   "metadata": {},
   "outputs": [],
   "source": [
    "import collections\n",
    "from collections import deque"
   ]
  },
  {
   "cell_type": "code",
   "execution_count": null,
   "metadata": {},
   "outputs": [
    {
     "name": "stdout",
     "output_type": "stream",
     "text": [
      "['A', 'B', 'C', 'D', 'E', 'F', 'G', 'H']\n"
     ]
    }
   ],
   "source": [
    "graph = {\n",
    "    'A': ['B', 'C'],\n",
    "    'B': ['A', 'D', 'E'],\n",
    "    'C': ['A', 'F', 'G'],\n",
    "    'D': ['B'],\n",
    "    'E': ['B', 'H'],\n",
    "    'F': ['C'],\n",
    "    'G': ['C'],\n",
    "    'H': ['E']\n",
    "}\n",
    "\n",
    "start_node = 'A'\n",
    "q=deque()\n",
    "q.append(start_node)\n",
    "visited=set()\n",
    "nodes=[]\n",
    "while q:\n",
    "    node=q.popleft() \n",
    "    if node not in visited:\n",
    "        nodes.append(node)\n",
    "        for i in graph[node]:\n",
    "            if node not in visited:\n",
    "                q.append(i)\n",
    "    visited.add(node)\n",
    "print(nodes)\n"
   ]
  },
  {
   "cell_type": "code",
   "execution_count": 15,
   "metadata": {},
   "outputs": [
    {
     "name": "stdout",
     "output_type": "stream",
     "text": [
      "['A', 'B', 'C', 'D', 'E', 'F', 'G', 'H']\n"
     ]
    }
   ],
   "source": [
    "from collections import deque\n",
    "\n",
    "def bfs(graph, start_node):\n",
    "    visited = []\n",
    "    queue = deque([start_node])\n",
    "\n",
    "    while queue:\n",
    "        node = queue.popleft()\n",
    "        if node not in visited:\n",
    "            visited.append(node)\n",
    "            queue.extend(graph[node])  # Add all adjacent nodes to the queue\n",
    "\n",
    "    return visited\n",
    "\n",
    "# Given graph\n",
    "graph = {\n",
    "    'A': ['B', 'C'],\n",
    "    'B': ['A', 'D', 'E'],\n",
    "    'C': ['A', 'F', 'G'],\n",
    "    'D': ['B'],\n",
    "    'E': ['B', 'H'],\n",
    "    'F': ['C'],\n",
    "    'G': ['C'],\n",
    "    'H': ['E']\n",
    "}\n",
    "\n",
    "start_node = 'A'\n",
    "bfs_result = bfs(graph, start_node)\n",
    "print(bfs_result)\n"
   ]
  },
  {
   "cell_type": "code",
   "execution_count": 46,
   "metadata": {},
   "outputs": [],
   "source": [
    "def dfs(graph,start_node):\n",
    "    \n",
    "    stk=deque([start_node])\n",
    "    visited=set()\n",
    "    gate=[]\n",
    "    while len(stk)!=0:\n",
    "        node=stk.pop()\n",
    "\n",
    "        if node  not in visited:\n",
    "            visited.add(node)\n",
    "            gate.append(node)\n",
    "            for i in graph[node]:\n",
    "                if i not in visited:\n",
    "                    stk.append(node)\n",
    "                    gate.append(node)\n",
    "                    visited.add(i)\n",
    "    return gate"
   ]
  },
  {
   "cell_type": "code",
   "execution_count": 47,
   "metadata": {},
   "outputs": [],
   "source": [
    "graph = {\n",
    "    'A': ['B', 'C'],\n",
    "    'B': ['A', 'D', 'E'],\n",
    "    'C': ['A', 'F', 'G'],\n",
    "    'D': ['B'],\n",
    "    'E': ['B', 'H'],\n",
    "    'F': ['C'],\n",
    "    'G': ['C'],\n",
    "    'H': ['E']\n",
    "}\n",
    "\n",
    "start_node = 'A'"
   ]
  },
  {
   "cell_type": "code",
   "execution_count": 49,
   "metadata": {},
   "outputs": [
    {
     "name": "stdout",
     "output_type": "stream",
     "text": [
      "['A', 'C', 'G', 'F', 'B', 'E', 'H', 'D']\n"
     ]
    }
   ],
   "source": [
    "from collections import deque\n",
    "\n",
    "def dfs_iterative(graph, start_node):\n",
    "    stk = deque([start_node])  # Stack for DFS\n",
    "    visited = set()  # Track visited nodes\n",
    "    nodes = []  # Store traversal order\n",
    "\n",
    "    while stk:\n",
    "        node = stk.pop()  # Pop from stack (LIFO)\n",
    "        if node not in visited:\n",
    "            visited.add(node)\n",
    "            nodes.append(node)\n",
    "\n",
    "            # Push neighbors **in the same order** as in adjacency list\n",
    "            for neighbor in graph[node]:  \n",
    "                if neighbor not in visited:\n",
    "                    stk.append(neighbor)\n",
    "\n",
    "    return nodes  # Return the DFS traversal order\n",
    "\n",
    "# Example Graph\n",
    "graph = {\n",
    "    'A': ['B', 'C'],\n",
    "    'B': ['A', 'D', 'E'],\n",
    "    'C': ['A', 'F', 'G'],\n",
    "    'D': ['B'],\n",
    "    'E': ['B', 'H'],\n",
    "    'F': ['C'],\n",
    "    'G': ['C'],\n",
    "    'H': ['E']\n",
    "}\n",
    "\n",
    "start_node = 'A'\n",
    "print(dfs_iterative(graph, start_node))\n"
   ]
  },
  {
   "cell_type": "code",
   "execution_count": 48,
   "metadata": {},
   "outputs": [
    {
     "data": {
      "text/plain": [
       "['A', 'A', 'A']"
      ]
     },
     "execution_count": 48,
     "metadata": {},
     "output_type": "execute_result"
    }
   ],
   "source": [
    "dfs(graph,start_node)\n"
   ]
  },
  {
   "cell_type": "code",
   "execution_count": null,
   "metadata": {},
   "outputs": [],
   "source": []
  }
 ],
 "metadata": {
  "kernelspec": {
   "display_name": "Python 3",
   "language": "python",
   "name": "python3"
  },
  "language_info": {
   "codemirror_mode": {
    "name": "ipython",
    "version": 3
   },
   "file_extension": ".py",
   "mimetype": "text/x-python",
   "name": "python",
   "nbconvert_exporter": "python",
   "pygments_lexer": "ipython3",
   "version": "3.12.1"
  }
 },
 "nbformat": 4,
 "nbformat_minor": 2
}
