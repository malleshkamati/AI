{
 "cells": [
  {
   "cell_type": "code",
   "execution_count": 9,
   "metadata": {},
   "outputs": [],
   "source": [
    "import numpy as np\n",
    "import random"
   ]
  },
  {
   "cell_type": "code",
   "execution_count": 13,
   "metadata": {},
   "outputs": [],
   "source": [
    "\n",
    "data = np.array([\n",
    "    [5.1, 3.5, 1.4],\n",
    "    [4.9, 3.0, 1.4],\n",
    "    [7.0, 3.2, 4.7],\n",
    "    [6.4, 3.2, 4.5],\n",
    "    [5.9, 3.0, 4.2],\n",
    "    [6.9, 3.1, 5.1],\n",
    "    [5.0, 3.6, 1.4],\n",
    "    [5.5, 2.4, 3.7],\n",
    "    [6.3, 3.3, 6.0],\n",
    "    [5.8, 2.7, 5.1]\n",
    "])\n"
   ]
  },
  {
   "cell_type": "code",
   "execution_count": null,
   "metadata": {},
   "outputs": [],
   "source": []
  },
  {
   "cell_type": "code",
   "execution_count": null,
   "metadata": {},
   "outputs": [],
   "source": []
  }
 ],
 "metadata": {
  "kernelspec": {
   "display_name": "Python 3",
   "language": "python",
   "name": "python3"
  },
  "language_info": {
   "codemirror_mode": {
    "name": "ipython",
    "version": 3
   },
   "file_extension": ".py",
   "mimetype": "text/x-python",
   "name": "python",
   "nbconvert_exporter": "python",
   "pygments_lexer": "ipython3",
   "version": "3.12.1"
  }
 },
 "nbformat": 4,
 "nbformat_minor": 2
}
