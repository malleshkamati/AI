{
 "cells": [
  {
   "cell_type": "code",
   "execution_count": 15,
   "metadata": {},
   "outputs": [
    {
     "name": "stdout",
     "output_type": "stream",
     "text": [
      "Path from Arad to Bucharest: Arad -> Sibiu -> Rimnicu Vilcea -> Pitesti -> Bucharest\n"
     ]
    }
   ],
   "source": [
    "import heapq\n",
    "\n",
    "class PriorityQueue:\n",
    "    def __init__(self):\n",
    "        self._queue = []  \n",
    "        self._index = 0\n",
    "\n",
    "    def push(self, item, priority):\n",
    "        heapq.heappush(self._queue, (priority, self._index, item))\n",
    "        self._index += 1\n",
    "\n",
    "    def pop(self):\n",
    "        return heapq.heappop(self._queue)[-1]\n",
    "\n",
    "    def is_empty(self):\n",
    "        return len(self._queue) == 0\n",
    "\n",
    "\n",
    "heuristic = {\n",
    "    'Arad': 366,\n",
    "    'Bucharest': 0,\n",
    "    'Craiova': 160,\n",
    "    'Drobeta': 242,\n",
    "    'Eforie': 161,\n",
    "    'Fagaras': 176,\n",
    "    'Giurgiu': 77,\n",
    "    'Hirsova': 151,\n",
    "    'Iasi': 226,\n",
    "    'Lugoj': 244,\n",
    "    'Mehadia': 241,\n",
    "    'Neamt': 234,\n",
    "    'Oradea': 380,\n",
    "    'Pitesti': 100,\n",
    "    'Rimnicu Vilcea': 193,\n",
    "    'Sibiu': 253,\n",
    "    'Timisoara': 329,\n",
    "    'Urziceni': 80,\n",
    "    'Vaslui': 199,\n",
    "    'Zerind': 374\n",
    "}\n",
    "\n",
    "graph2={'Arad': [('Zerind', 75), ('Sibiu', 140), ('Timisoara', 118)], 'Zerind': [('Arad', 75), ('Oradea', 71)], \n",
    "        'Sibiu': [('Arad', 140), ('Oradea', 151), ('Rimnicu Vilcea', 80), ('Fagaras', 99)], 'Timisoara': [('Arad', 118), ('Lugoj', 111)], 'Oradea': [('Zerind', 71), ('Sibiu', 151)], 'Lugoj': [('Timisoara', 111), ('Mehadia', 70)], 'Mehadia': [('Lugoj', 70), ('Drobeta', 75)], 'Drobeta': [('Mehadia', 75), ('Craiova', 120)], 'Craiova': [('Drobeta', 120), ('Rimnicu Vilcea', 146), ('Pitesti', 138)], 'Rimnicu Vilcea': [('Craiova', 146), ('Sibiu', 80), ('Pitesti', 97)], 'Pitesti': [('Craiova', 138), ('Rimnicu Vilcea', 97), ('Bucharest', 101)], 'Fagaras': [('Sibiu', 99), ('Bucharest', 211)], 'Bucharest': [('Fagaras', 211), ('Pitesti', 101), ('Giurgiu', 90), ('Urziceni', 85)], 'Giurgiu': [('Bucharest', 90)], 'Urziceni': [('Bucharest', 85), ('Hirsova', 98), ('Vaslui', 142)], 'Hirsova': [('Urziceni', 98), ('Eforie', 86)], 'Eforie': [('Hirsova', 86)], 'Vaslui': [('Urziceni', 142), ('Iasi', 92)], 'Iasi': [('Vaslui', 92), ('Neamt', 87)], 'Neamt': [('Iasi', 87)]}\n",
    "\n",
    "def gn(initial,upto,graph):# the function for finding g(n) for A* that is actual path length upto the node\n",
    "    l=len(upto)\n",
    "    dist=0\n",
    "    for i in range(1,l):\n",
    "        b=upto[i]\n",
    "        a=upto[i-1]\n",
    "        b_graph=graph[a]\n",
    "        bl=len(b_graph)\n",
    "        for j in range(bl):\n",
    "            if b_graph[j][0]==b:\n",
    "                dist+=b_graph[j][1]\n",
    "    return dist\n",
    "\n",
    "\n",
    "def a_star(initial, goal, graph, heuristic):\n",
    "    pq = PriorityQueue()\n",
    "    pq.push((initial, [initial]), heuristic[initial])\n",
    "    visited = set()\n",
    "\n",
    "    while not pq.is_empty(): \n",
    "        current, path = pq.pop()#getting least heuristic value \n",
    "        # print(path)\n",
    "        \n",
    "        if current == goal:# reached goal state\n",
    "            return path\n",
    "        \n",
    "        if current in visited:# it skips if the node already visited\n",
    "            continue\n",
    "        \n",
    "        visited.add(current)\n",
    "        \n",
    "        for nbr, cost in graph[current]:\n",
    "            if nbr not in visited:\n",
    "                new_path = path + [nbr]\n",
    "                g_cost = gn(initial, new_path, graph)# calculating the cost \n",
    "                f_cost = g_cost + heuristic[nbr]# calculating actual cost\n",
    "                pq.push((nbr, new_path), f_cost)\n",
    "    \n",
    "    return None  # If no path is found\n",
    "\n",
    "start_city = 'Arad'\n",
    "end_city = 'Bucharest'\n",
    "\n",
    "ans = a_star(start_city, end_city, graph2, heuristic)\n",
    "\n",
    "if ans:\n",
    "    print(f\"Path from {start_city} to {end_city}: {' -> '.join(ans)}\")\n",
    "else:\n",
    "    print(f\"No path found from {start_city} to {end_city}\")\n",
    "\n",
    "\n",
    "    \n",
    "        \n",
    "        \n"
   ]
  },
  {
   "cell_type": "code",
   "execution_count": null,
   "metadata": {},
   "outputs": [],
   "source": []
  },
  {
   "cell_type": "code",
   "execution_count": 5,
   "metadata": {},
   "outputs": [],
   "source": [
    "def gn(initial,upto,graph):\n",
    "    l=len(upto)\n",
    "    dist=0\n",
    "    for i in range(1,l):\n",
    "        b=upto[i]\n",
    "        a=upto[i-1]\n",
    "        b_graph=graph[a]\n",
    "        bl=len(b_graph)\n",
    "        for j in range(bl):\n",
    "            if b_graph[j][0]==b:\n",
    "                dist+=b_graph[j][1]\n",
    "                print(b_graph[j][1])\n",
    "    return dist"
   ]
  },
  {
   "cell_type": "code",
   "execution_count": 7,
   "metadata": {},
   "outputs": [
    {
     "name": "stdout",
     "output_type": "stream",
     "text": [
      "75\n",
      "71\n",
      "151\n"
     ]
    },
    {
     "data": {
      "text/plain": [
       "297"
      ]
     },
     "execution_count": 7,
     "metadata": {},
     "output_type": "execute_result"
    }
   ],
   "source": [
    "gn('Arad',['Arad','Zerind','Oradea','Sibiu'],graph2)\n"
   ]
  },
  {
   "cell_type": "code",
   "execution_count": 12,
   "metadata": {},
   "outputs": [
    {
     "data": {
      "text/plain": [
       "[]"
      ]
     },
     "execution_count": 12,
     "metadata": {},
     "output_type": "execute_result"
    }
   ],
   "source": [
    "l=[]\n",
    "l+['a']\n",
    "l"
   ]
  },
  {
   "cell_type": "code",
   "execution_count": 17,
   "metadata": {},
   "outputs": [
    {
     "name": "stdout",
     "output_type": "stream",
     "text": [
      "Path from Arad to Bucharest: Arad -> Sibiu -> Fagaras -> Bucharest\n"
     ]
    }
   ],
   "source": [
    "import heapq\n",
    "\n",
    "class PriorityQueue:\n",
    "    def __init__(self):\n",
    "        self._queue = []  \n",
    "        self._index = 0\n",
    "\n",
    "    def push(self, item, priority):\n",
    "        heapq.heappush(self._queue, (priority, self._index, item))\n",
    "        self._index += 1\n",
    "\n",
    "    def pop(self):\n",
    "        return heapq.heappop(self._queue)[-1]\n",
    "\n",
    "    def is_empty(self):\n",
    "        return len(self._queue) == 0\n",
    "\n",
    "# Example usage:\n",
    "pq = PriorityQueue()\n",
    "heuristic = {\n",
    "    'Arad': 366,\n",
    "    'Bucharest': 0,\n",
    "    'Craiova': 160,\n",
    "    'Drobeta': 242,\n",
    "    'Eforie': 161,\n",
    "    'Fagaras': 176,\n",
    "    'Giurgiu': 77,\n",
    "    'Hirsova': 151,\n",
    "    'Iasi': 226,\n",
    "    'Lugoj': 244,\n",
    "    'Mehadia': 241,\n",
    "    'Neamt': 234,\n",
    "    'Oradea': 380,\n",
    "    'Pitesti': 100,\n",
    "    'Rimnicu Vilcea': 193,\n",
    "    'Sibiu': 253,\n",
    "    'Timisoara': 329,\n",
    "    'Urziceni': 80,\n",
    "    'Vaslui': 199,\n",
    "    'Zerind': 374\n",
    "}\n",
    "\n",
    "graph2={'Arad': [('Zerind', 75), ('Sibiu', 140), ('Timisoara', 118)], 'Zerind': [('Arad', 75), ('Oradea', 71)], 'Sibiu': [('Arad', 140), ('Oradea', 151), ('Rimnicu Vilcea', 80), ('Fagaras', 99)], 'Timisoara': [('Arad', 118), ('Lugoj', 111)], 'Oradea': [('Zerind', 71), ('Sibiu', 151)], 'Lugoj': [('Timisoara', 111), ('Mehadia', 70)], 'Mehadia': [('Lugoj', 70), ('Drobeta', 75)], 'Drobeta': [('Mehadia', 75), ('Craiova', 120)], 'Craiova': [('Drobeta', 120), ('Rimnicu Vilcea', 146), ('Pitesti', 138)], 'Rimnicu Vilcea': [('Craiova', 146), ('Sibiu', 80), ('Pitesti', 97)], 'Pitesti': [('Craiova', 138), ('Rimnicu Vilcea', 97), ('Bucharest', 101)], 'Fagaras': [('Sibiu', 99), ('Bucharest', 211)], 'Bucharest': [('Fagaras', 211), ('Pitesti', 101), ('Giurgiu', 90), ('Urziceni', 85)], 'Giurgiu': [('Bucharest', 90)], 'Urziceni': [('Bucharest', 85), ('Hirsova', 98), ('Vaslui', 142)], 'Hirsova': [('Urziceni', 98), ('Eforie', 86)], 'Eforie': [('Hirsova', 86)], 'Vaslui': [('Urziceni', 142), ('Iasi', 92)], 'Iasi': [('Vaslui', 92), ('Neamt', 87)], 'Neamt': [('Iasi', 87)]}\n",
    "\n",
    "\n",
    "\n",
    "def Bestfirstsearch(initial,goal,graph,heurestic):#inital is point from where we are starting,The point where we have to reach,\n",
    "                                                # graph is graph  should be in the form dict which contain key as place and value as list of tuples which having the adjecent place with weight\n",
    "                                                # heurestic should be in the form of dict \n",
    "    visited=[]\n",
    "    visited.append(initial)\n",
    "    goal_reached=True\n",
    "    present=initial\n",
    "    \n",
    "    while goal_reached:\n",
    "        pq=PriorityQueue()\n",
    "        nbr=graph[present]# checking neibours\n",
    "        for i in range(len(nbr)):\n",
    "            if nbr not in visited:\n",
    "                pq.push(nbr[i][0],heurestic[nbr[i][0]])#pusing the palce of name with its heuristic as key to priority queue so that if we pop the lower the heuristic will come\n",
    "        ele=pq.pop()\n",
    "        visited.append(ele)\n",
    "        if ele==goal:# checking the final condition\n",
    "            goal_reached=False\n",
    "        present=ele\n",
    "        # print(visited)\n",
    "        \n",
    "\n",
    "    return visited\n",
    "\n",
    "\n",
    "\n",
    "start_city = 'Arad'\n",
    "end_city = 'Bucharest'\n",
    "\n",
    "ans = Bestfirstsearch(start_city, end_city, graph2, heuristic)\n",
    "\n",
    "if ans:\n",
    "    print(f\"Path from {start_city} to {end_city}: {' -> '.join(ans)}\")\n",
    "else:\n",
    "    print(f\"No path found from {start_city} to {end_city}\")\n"
   ]
  },
  {
   "cell_type": "code",
   "execution_count": null,
   "metadata": {},
   "outputs": [],
   "source": [
    "def a_star(initial,final,graph,heuristic):\n",
    "    \n"
   ]
  },
  {
   "cell_type": "code",
   "execution_count": 4,
   "metadata": {},
   "outputs": [
    {
     "name": "stdout",
     "output_type": "stream",
     "text": [
      "Path to Bucharest: ['Arad', 'Sibiu', 'Fagaras', 'Bucharest']\n"
     ]
    }
   ],
   "source": [
    "import heapq\n",
    "\n",
    "class PriorityQueue:\n",
    "    def __init__(self):\n",
    "        self._queue = []  \n",
    "        self._index = 0\n",
    "\n",
    "    def push(self, item, priority):\n",
    "        heapq.heappush(self._queue, (priority, self._index, item))\n",
    "        self._index += 1\n",
    "\n",
    "    def pop(self):\n",
    "        return heapq.heappop(self._queue)[-1]\n",
    "\n",
    "    def is_empty(self):\n",
    "        return len(self._queue) == 0\n",
    "\n",
    "def Bestfirstsearch(initial, goal, graph, heuristic):\n",
    "    pq = PriorityQueue()  # Priority Queue to manage frontier nodes\n",
    "    pq.push(initial, heuristic[initial])  # Start with the initial node\n",
    "    visited = set()  # Keep track of visited nodes\n",
    "    path = []  # To store the path from start to goal\n",
    "    \n",
    "    while not pq.is_empty():\n",
    "        current = pq.pop()\n",
    "        path.append(current)\n",
    "\n",
    "        if current == goal:  # If goal is reached, stop\n",
    "            return path\n",
    "\n",
    "        if current not in visited:\n",
    "            visited.add(current)\n",
    "            # Expand the neighbors\n",
    "            for neighbor, weight in graph[current]:\n",
    "                if neighbor not in visited:\n",
    "                    pq.push(neighbor, heuristic[neighbor])\n",
    "\n",
    "    return path  # If goal is not reachable, return the explored path\n",
    "\n",
    "# Example usage:\n",
    "heuristic = {\n",
    "    'Arad': 366,\n",
    "    'Bucharest': 0,\n",
    "    'Craiova': 160,\n",
    "    'Drobeta': 242,\n",
    "    'Eforie': 161,\n",
    "    'Fagaras': 176,\n",
    "    'Giurgiu': 77,\n",
    "    'Hirsova': 151,\n",
    "    'Iasi': 226,\n",
    "    'Lugoj': 244,\n",
    "    'Mehadia': 241,\n",
    "    'Neamt': 234,\n",
    "    'Oradea': 380,\n",
    "    'Pitesti': 100,\n",
    "    'Rimnicu Vilcea': 193,\n",
    "    'Sibiu': 253,\n",
    "    'Timisoara': 329,\n",
    "    'Urziceni': 80,\n",
    "    'Vaslui': 199,\n",
    "    'Zerind': 374\n",
    "}\n",
    "\n",
    "graph2 = {\n",
    "    'Arad': [('Zerind', 75), ('Sibiu', 140), ('Timisoara', 118)], \n",
    "    'Zerind': [('Arad', 75), ('Oradea', 71)], \n",
    "    'Sibiu': [('Arad', 140), ('Oradea', 151), ('Rimnicu Vilcea', 80), ('Fagaras', 99)], \n",
    "    'Timisoara': [('Arad', 118), ('Lugoj', 111)], \n",
    "    'Oradea': [('Zerind', 71), ('Sibiu', 151)], \n",
    "    'Lugoj': [('Timisoara', 111), ('Mehadia', 70)], \n",
    "    'Mehadia': [('Lugoj', 70), ('Drobeta', 75)], \n",
    "    'Drobeta': [('Mehadia', 75), ('Craiova', 120)], \n",
    "    'Craiova': [('Drobeta', 120), ('Rimnicu Vilcea', 146), ('Pitesti', 138)], \n",
    "    'Rimnicu Vilcea': [('Craiova', 146), ('Sibiu', 80), ('Pitesti', 97)], \n",
    "    'Pitesti': [('Craiova', 138), ('Rimnicu Vilcea', 97), ('Bucharest', 101)], \n",
    "    'Fagaras': [('Sibiu', 99), ('Bucharest', 211)], \n",
    "    'Bucharest': [('Fagaras', 211), ('Pitesti', 101), ('Giurgiu', 90), ('Urziceni', 85)], \n",
    "    'Giurgiu': [('Bucharest', 90)], \n",
    "    'Urziceni': [('Bucharest', 85), ('Hirsova', 98), ('Vaslui', 142)], \n",
    "    'Hirsova': [('Urziceni', 98), ('Eforie', 86)], \n",
    "    'Eforie': [('Hirsova', 86)], \n",
    "    'Vaslui': [('Urziceni', 142), ('Iasi', 92)], \n",
    "    'Iasi': [('Vaslui', 92), ('Neamt', 87)], \n",
    "    'Neamt': [('Iasi', 87)]\n",
    "}\n",
    "\n",
    "# Call the function\n",
    "path = Bestfirstsearch('Arad', 'Bucharest', graph2, heuristic)\n",
    "print(\"Path to Bucharest:\", path)\n"
   ]
  },
  {
   "cell_type": "code",
   "execution_count": null,
   "metadata": {},
   "outputs": [],
   "source": [
    "def a_star(initial,final,)"
   ]
  },
  {
   "cell_type": "code",
   "execution_count": 7,
   "metadata": {},
   "outputs": [
    {
     "data": {
      "text/plain": [
       "75"
      ]
     },
     "execution_count": 7,
     "metadata": {},
     "output_type": "execute_result"
    }
   ],
   "source": [
    "a=('Arad', 'Zerind', 75)\n",
    "a[2]"
   ]
  },
  {
   "cell_type": "code",
   "execution_count": null,
   "metadata": {},
   "outputs": [],
   "source": []
  },
  {
   "cell_type": "code",
   "execution_count": null,
   "metadata": {},
   "outputs": [],
   "source": []
  }
 ],
 "metadata": {
  "kernelspec": {
   "display_name": "Python 3",
   "language": "python",
   "name": "python3"
  },
  "language_info": {
   "codemirror_mode": {
    "name": "ipython",
    "version": 3
   },
   "file_extension": ".py",
   "mimetype": "text/x-python",
   "name": "python",
   "nbconvert_exporter": "python",
   "pygments_lexer": "ipython3",
   "version": "3.12.1"
  }
 },
 "nbformat": 4,
 "nbformat_minor": 2
}
