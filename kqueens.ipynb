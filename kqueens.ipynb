{
 "cells": [
  {
   "cell_type": "code",
   "execution_count": 11,
   "metadata": {},
   "outputs": [],
   "source": [
    "# board=[[0, 0, 0, 0, 0, 0, 0, 0], [0, 0, 0, 0, 0, 0, 0, 0], [0, 0, 0, 0, 0, 0, 0, 0], [0, 0, 0, 0, 0, 0, 0, 0], [0, 0, 0, 0, 0, 0, 0, 0], [0, 0, 0, 0, 0, 0, 0, 0], [0, 0, 0, 0, 0, 0, 0, 0], [0, 0, 0, 0, 0, 0, 0, 0]]\n",
    "\n",
    "def vertical(board,k,j):\n",
    "    \n",
    "    \n",
    "    for i in range(k):\n",
    "        if 1 == board[i][j]:\n",
    "            # print(board)\n",
    "            return False\n",
    "       \n",
    "    # print(\"v\")\n",
    "    return True\n",
    "        \n",
    "def horizontal(board,k,i):\n",
    "    for i in range(k):\n",
    "        if 1 in board[i]:\n",
    "            # print(\"h\")\n",
    "            return False\n",
    "        i=i+1\n",
    "    # print(\"h\")\n",
    "    return True\n",
    "\n",
    "def diagonal(board,k,i,j):\n",
    "    # print('s')\n",
    "    s=i-j\n",
    "    l=[]\n",
    "    count=0\n",
    "    for m in range(k):\n",
    "        # l.append((i,j))\n",
    "        # i=i+s\n",
    "        # j=j+s\n",
    "        for z in range(k):\n",
    "            weewes=m-j\n",
    "            if weewes==s or weewes==-s:\n",
    "                l.append((m,z))\n",
    "\n",
    "    \n",
    "    print(f\"l {l}\")\n",
    "    for n in l:\n",
    "        if n[0]>7 or n[1]<0:\n",
    "            if n[0]<0 or n[1]<7:\n",
    "                # print(n)\n",
    "                l.remove(n)\n",
    "    # print(f\"l {l}\")\n",
    "    for a in l:\n",
    "        # print(l)\n",
    "        temp0=a[0]\n",
    "        temp1=a[1]\n",
    "        if 1 == board[temp0][temp1]:\n",
    "            return False\n",
    "    # print(\"dir\")\n",
    "    return True\n",
    "\n",
    "\n",
    "def kqueens(board,k):\n",
    "    count=0\n",
    "    l=[]\n",
    "\n",
    "    for i in range(k):\n",
    "        for j in range(k):\n",
    "            # print(i,j)\n",
    "            if vertical(board,k,j) and horizontal(board,k,i) and diagonal(board,k,i,j) :\n",
    "                # print(\"a\")\n",
    "                # l.append((i,j))\n",
    "                board[i][j]=1\n",
    "                kqueens(board,k)\n",
    "                break\n",
    "                # count+=1\n",
    "                \n",
    "            # if count==k:\n",
    "            #     break\n",
    "            \n",
    "    return board\n",
    "\n",
    "\n",
    "\n"
   ]
  },
  {
   "cell_type": "code",
   "execution_count": 12,
   "metadata": {},
   "outputs": [
    {
     "name": "stdout",
     "output_type": "stream",
     "text": [
      "l [(0, 0), (0, 1), (0, 2), (0, 3), (0, 4)]\n"
     ]
    },
    {
     "data": {
      "text/plain": [
       "[[1, 0, 0, 0, 0],\n",
       " [1, 0, 0, 0, 0],\n",
       " [1, 0, 0, 0, 0],\n",
       " [1, 0, 0, 0, 0],\n",
       " [1, 0, 0, 0, 0]]"
      ]
     },
     "execution_count": 12,
     "metadata": {},
     "output_type": "execute_result"
    }
   ],
   "source": [
    "b=[[0]*5]*5\n",
    "\n",
    "kqueens(b,5)"
   ]
  },
  {
   "cell_type": "code",
   "execution_count": 13,
   "metadata": {},
   "outputs": [
    {
     "name": "stdout",
     "output_type": "stream",
     "text": [
      "Q . . . . . . .\n",
      ". . . . . . Q .\n",
      ". . . . Q . . .\n",
      ". . . . . . . Q\n",
      ". Q . . . . . .\n",
      ". . . Q . . . .\n",
      ". . . . . Q . .\n",
      ". . Q . . . . .\n"
     ]
    }
   ],
   "source": [
    "def is_safe(board, row, col, n):\n",
    "    # Check this row on left side\n",
    "    for i in range(col):\n",
    "        if board[row][i] == 1:\n",
    "            return False\n",
    "\n",
    "    # Check upper diagonal on left side\n",
    "    for i, j in zip(range(row, -1, -1), range(col, -1, -1)):\n",
    "        if board[i][j] == 1:\n",
    "            return False\n",
    "\n",
    "    # Check lower diagonal on left side\n",
    "    for i, j in zip(range(row, n, 1), range(col, -1, -1)):\n",
    "        if board[i][j] == 1:\n",
    "            return False\n",
    "\n",
    "    return True\n",
    "\n",
    "def solve_n_queens_util(board, col, n):\n",
    "    if col >= n:\n",
    "        return True\n",
    "\n",
    "    for i in range(n):\n",
    "        if is_safe(board, i, col, n):\n",
    "            board[i][col] = 1\n",
    "\n",
    "            if solve_n_queens_util(board, col + 1, n):\n",
    "                return True\n",
    "\n",
    "            board[i][col] = 0\n",
    "\n",
    "    return False\n",
    "\n",
    "def solve_n_queens(n):\n",
    "    board = [[0 for _ in range(n)] for _ in range(n)]\n",
    "\n",
    "    if not solve_n_queens_util(board, 0, n):\n",
    "        print(\"Solution does not exist\")\n",
    "        return False\n",
    "\n",
    "    return board\n",
    "\n",
    "def print_solution(board):\n",
    "    for row in board:\n",
    "        print(\" \".join([\"Q\" if x else \".\" for x in row]))\n",
    "\n",
    "# Test the solution\n",
    "n = 8  # Change this to solve for different board sizes\n",
    "solution = solve_n_queens(n)\n",
    "if solution:\n",
    "    print_solution(solution)"
   ]
  },
  {
   "cell_type": "code",
   "execution_count": 14,
   "metadata": {},
   "outputs": [
    {
     "data": {
      "text/plain": [
       "1"
      ]
     },
     "execution_count": 14,
     "metadata": {},
     "output_type": "execute_result"
    }
   ],
   "source": [
    "1&1"
   ]
  },
  {
   "cell_type": "code",
   "execution_count": 15,
   "metadata": {},
   "outputs": [],
   "source": [
    "class Node:\n",
    "    def __init__(self, data):\n",
    "        self.data = data\n",
    "        self.next = None\n",
    "\n",
    "class SinglyLinkedList:\n",
    "    def __init__(self):\n",
    "        self.head = None\n",
    "\n",
    "    def append(self, data):\n",
    "        new_node = Node(data)\n",
    "        if not self.head:\n",
    "            self.head = new_node\n",
    "            return\n",
    "        current = self.head\n",
    "        while current.next:\n",
    "            current = current.next\n",
    "        current.next = new_node\n",
    "\n",
    "    def display(self):\n",
    "        elements = []\n",
    "        current = self.head\n",
    "        while current:\n",
    "            elements.append(current.data)\n",
    "            current = current.next\n",
    "        print(\" -> \".join(map(str, elements)))\n",
    "\n",
    "    def delete(self, data):\n",
    "        if not self.head:\n",
    "            return\n",
    "        if self.head.data == data:\n",
    "            self.head = self.head.next\n",
    "            return\n",
    "        current = self.head\n",
    "        while current.next:\n",
    "            if current.next.data == data:\n",
    "                current.next = current.next.next\n",
    "                return\n",
    "            current = current.next\n",
    "    def reversell(self):\n",
    "        prev = None\n",
    "        current = self.head\n",
    "        while current:\n",
    "            next_node = current.next\n",
    "            current.next = prev\n",
    "            prev = current\n",
    "            current = next_node\n",
    "        self.head = prev\n",
    "        print(display(self))\n",
    "        return self\n",
    "\n",
    "\n",
    "\n",
    "# Example usage\n",
    "\n",
    "   # Output: 1 -> 3"
   ]
  },
  {
   "cell_type": "code",
   "execution_count": 16,
   "metadata": {},
   "outputs": [
    {
     "name": "stdout",
     "output_type": "stream",
     "text": [
      "1 -> 2 -> 3 -> 5\n"
     ]
    }
   ],
   "source": [
    "sll = SinglyLinkedList()\n",
    "sll.append(1)\n",
    "sll.append(2)\n",
    "sll.append(3)\n",
    "sll.append(5)\n",
    "# sll.display()  # Output: 1 -> 2 -> 3\n",
    "# sll.delete(2)\n",
    "sll.display()  "
   ]
  },
  {
   "cell_type": "code",
   "execution_count": 17,
   "metadata": {},
   "outputs": [
    {
     "data": {
      "text/plain": [
       "<__main__.SinglyLinkedList at 0x20453d340b0>"
      ]
     },
     "metadata": {},
     "output_type": "display_data"
    },
    {
     "name": "stdout",
     "output_type": "stream",
     "text": [
      "None\n",
      "<__main__.SinglyLinkedList object at 0x0000020453D340B0>\n"
     ]
    }
   ],
   "source": [
    "print(sll.reversell())"
   ]
  },
  {
   "cell_type": "code",
   "execution_count": 28,
   "metadata": {},
   "outputs": [
    {
     "data": {
      "text/plain": [
       "False"
      ]
     },
     "execution_count": 28,
     "metadata": {},
     "output_type": "execute_result"
    }
   ],
   "source": [
    "d={1:2,5:4,7:89897,2:1,4:5,89897:7}\n",
    "set(d.values())==d.values()"
   ]
  },
  {
   "cell_type": "code",
   "execution_count": 21,
   "metadata": {},
   "outputs": [],
   "source": [
    "def isIsomorphic( s: str, t: str) -> bool:\n",
    "\n",
    "        l=len(s)\n",
    "        dict1={}\n",
    "        dict2={}\n",
    "        dict3={}\n",
    "        for i in range(l):\n",
    "            if s[i] not in dict1.keys():\n",
    "                dict1[s[i]]=t[i]\n",
    "        for i in range(l):\n",
    "            if t[i] not in dict2.keys():\n",
    "                dict2[t[i]]=s[i]\n",
    "        for i,j in dict1.items():\n",
    "            dict3[j]=i\n",
    "        if dict3==dict2:\n",
    "            return True\n",
    "        else:\n",
    "            return False"
   ]
  },
  {
   "cell_type": "code",
   "execution_count": 22,
   "metadata": {},
   "outputs": [
    {
     "data": {
      "text/plain": [
       "True"
      ]
     },
     "execution_count": 22,
     "metadata": {},
     "output_type": "execute_result"
    }
   ],
   "source": [
    "isIsomorphic(\"egg\",\"foo\")"
   ]
  },
  {
   "cell_type": "code",
   "execution_count": 30,
   "metadata": {},
   "outputs": [
    {
     "data": {
      "text/plain": [
       "3"
      ]
     },
     "execution_count": 30,
     "metadata": {},
     "output_type": "execute_result"
    }
   ],
   "source": [
    "len(set(\"maaal\"))\n"
   ]
  },
  {
   "cell_type": "code",
   "execution_count": 4,
   "metadata": {},
   "outputs": [
    {
     "data": {
      "text/plain": [
       "[5, 5, 5, 5, 5, 55, 555, 5444]"
      ]
     },
     "execution_count": 4,
     "metadata": {},
     "output_type": "execute_result"
    }
   ],
   "source": [
    "a=[5,55,5,5,5,5444,5,555]\n",
    "sorted(a)"
   ]
  },
  {
   "cell_type": "code",
   "execution_count": 1,
   "metadata": {},
   "outputs": [],
   "source": [
    "def board():\n",
    "    b=[[1]]\n",
    "    print(b)\n",
    "    for i in range(3):\n",
    "        for j  in range(3):\n",
    "            b[i][j]=\"_\"\n",
    "    print(b)\n",
    "    return b\n",
    "            "
   ]
  },
  {
   "cell_type": "code",
   "execution_count": 1,
   "metadata": {},
   "outputs": [],
   "source": [
    "A=\"entity relationship diagram\""
   ]
  },
  {
   "cell_type": "code",
   "execution_count": 2,
   "metadata": {},
   "outputs": [
    {
     "data": {
      "text/plain": [
       "'ENTITY RELATIONSHIP DIAGRAM'"
      ]
     },
     "execution_count": 2,
     "metadata": {},
     "output_type": "execute_result"
    }
   ],
   "source": [
    "A.upper()"
   ]
  },
  {
   "cell_type": "code",
   "execution_count": null,
   "metadata": {},
   "outputs": [],
   "source": []
  }
 ],
 "metadata": {
  "kernelspec": {
   "display_name": "Python 3",
   "language": "python",
   "name": "python3"
  },
  "language_info": {
   "codemirror_mode": {
    "name": "ipython",
    "version": 3
   },
   "file_extension": ".py",
   "mimetype": "text/x-python",
   "name": "python",
   "nbconvert_exporter": "python",
   "pygments_lexer": "ipython3",
   "version": "3.12.1"
  }
 },
 "nbformat": 4,
 "nbformat_minor": 2
}
