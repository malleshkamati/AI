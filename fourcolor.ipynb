{
 "cells": [
  {
   "cell_type": "code",
   "execution_count": null,
   "metadata": {},
   "outputs": [
    {
     "name": "stdout",
     "output_type": "stream",
     "text": [
      "Red\n"
     ]
    },
    {
     "ename": "ValueError",
     "evalue": "list.remove(x): x not in list",
     "output_type": "error",
     "traceback": [
      "\u001b[1;31m---------------------------------------------------------------------------\u001b[0m",
      "\u001b[1;31mValueError\u001b[0m                                Traceback (most recent call last)",
      "Cell \u001b[1;32mIn[10], line 18\u001b[0m\n\u001b[0;32m     15\u001b[0m     \u001b[38;5;28;01mreturn\u001b[39;00m remainingcolors[\u001b[38;5;241m0\u001b[39m]\n\u001b[0;32m     17\u001b[0m \u001b[38;5;28;01mfor\u001b[39;00m i \u001b[38;5;129;01min\u001b[39;00m states:\n\u001b[1;32m---> 18\u001b[0m     col\u001b[38;5;241m=\u001b[39m\u001b[43maddcolor\u001b[49m\u001b[43m(\u001b[49m\u001b[43mi\u001b[49m\u001b[43m,\u001b[49m\u001b[43mcolors\u001b[49m\u001b[43m)\u001b[49m\n\u001b[0;32m     19\u001b[0m     colored[i]\u001b[38;5;241m=\u001b[39mcol\n\u001b[0;32m     20\u001b[0m \u001b[38;5;28;01mreturn\u001b[39;00m colored\n",
      "Cell \u001b[1;32mIn[10], line 13\u001b[0m, in \u001b[0;36maddcolor\u001b[1;34m(node, colors)\u001b[0m\n\u001b[0;32m      9\u001b[0m \u001b[38;5;28;01mfor\u001b[39;00m i \u001b[38;5;129;01min\u001b[39;00m states_neighbours[node]:\n\u001b[0;32m     10\u001b[0m     \u001b[38;5;66;03m# print(node,colored)\u001b[39;00m\n\u001b[0;32m     11\u001b[0m     \u001b[38;5;28;01mif\u001b[39;00m i \u001b[38;5;129;01min\u001b[39;00m colored\u001b[38;5;241m.\u001b[39mkeys():\n\u001b[1;32m---> 13\u001b[0m         \u001b[43mremainingcolors\u001b[49m\u001b[38;5;241;43m.\u001b[39;49m\u001b[43mremove\u001b[49m\u001b[43m(\u001b[49m\u001b[43mcolored\u001b[49m\u001b[43m[\u001b[49m\u001b[43mi\u001b[49m\u001b[43m]\u001b[49m\u001b[43m)\u001b[49m\n\u001b[0;32m     14\u001b[0m         \u001b[38;5;28mprint\u001b[39m(colored[i])\n\u001b[0;32m     15\u001b[0m \u001b[38;5;28;01mreturn\u001b[39;00m remainingcolors[\u001b[38;5;241m0\u001b[39m]\n",
      "\u001b[1;31mValueError\u001b[0m: list.remove(x): x not in list"
     ]
    }
   ],
   "source": [
    "colors=[\"Red\",\"Green\",\"Blue\",\"mars\",\"swd\"]\n",
    "states=[\"WA\",\"SA\",\"NT\",\"Q\",\"NSW\",\"V\",\"T\"]\n",
    "states_neighbours={\"WA\":[\"NT\",\"SA\"], \"NT\":[\"WA\", \"SA\",\"Q\"], \n",
    "                  \"SA\":[\"WA\",\"NT\",\"Q\",\"NSW\", \"V\"], \"Q\":[\"NT\",\"SA\",\"NSW\"], \n",
    "                  \"NSW\":[\"V\",\"SA\",\"Q\"], \"V\":[\"NSW\",\"SA\"],\"T\":[]}\n",
    "colored={}\n",
    "def addcolor(node,colors):\n",
    "    remainingcolors=colors\n",
    "    for i in states_neighbours[node]:\n",
    "        # print(node,colored)\n",
    "        if i in colored.keys():\n",
    "            remainingcolors.remove(colored[i])\n",
    "            print(colored[i])\n",
    "    return remainingcolors[0]\n",
    "\n",
    "for i in states:\n",
    "    col=addcolor(i,colors)\n",
    "    colored[i]=col\n",
    "return colored\n"
   ]
  },
  {
   "cell_type": "code",
   "execution_count": null,
   "metadata": {},
   "outputs": [],
   "source": []
  },
  {
   "cell_type": "code",
   "execution_count": null,
   "metadata": {},
   "outputs": [],
   "source": []
  },
  {
   "cell_type": "code",
   "execution_count": null,
   "metadata": {},
   "outputs": [],
   "source": [
    "graph={\"WA\":[\"NT\",\"SA\"],\"NT\":[\"WA\",\"SA\",\"QL\"],\"SA\":[\"QL\",\"NSW\",\"VI\",\"NT\",\"WA\"],\"QL\":[\"NT\",\"SA\",\"NSW\"],\"NSW\":[\"VI\",\"SA\",\"QL\"],\"VI\":[\"NSW\",\"SA\"],\"TS\":[]}\n",
    "colors=[\"red\",\"green\",\"blue\"]\n",
    "\n",
    "states=[\"WA\",\"NT\",\"SA\",\"QL\",\"NSW\",\"VI\",\"TS\"]\n",
    "ansdict={}\n",
    "\n",
    "def paintstate(st):\n",
    "    cls=graph[st]\n",
    "    ansdict[st]=colors[0]\n",
    "    for i in cls:\n",
    "        \n",
    "        \n",
    "\n",
    "\n",
    "\n",
    "    \n",
    "    return \n",
    "\n",
    "\n",
    "\n",
    "\n",
    "for i in states:\n",
    "    ansdict[i]=paintstate(i)\n"
   ]
  },
  {
   "cell_type": "code",
   "execution_count": 8,
   "metadata": {},
   "outputs": [
    {
     "name": "stdout",
     "output_type": "stream",
     "text": [
      "2804353949712\n",
      "2804353950512\n",
      "2804353949712 2804353950512\n"
     ]
    }
   ],
   "source": [
    "a=500\n",
    "print(id(a))\n",
    "b=500\n",
    "print(id(b))\n",
    "\n",
    "\n",
    "print(id(a),id(b))"
   ]
  },
  {
   "cell_type": "code",
   "execution_count": 2,
   "metadata": {},
   "outputs": [
    {
     "name": "stdout",
     "output_type": "stream",
     "text": [
      "{'Western Australia': 'Red', 'Northern Territory': 'Blue', 'South Australia': 'Green', 'Queensland': 'Red', 'New South Wales': 'Blue', 'Victoria': 'Red', 'Tasmania': 'Red'}\n"
     ]
    }
   ],
   "source": [
    "colors = ['Red', 'Blue', 'Green']\n",
    "\n",
    "states = ['Western Australia', 'Northern Territory', 'South Australia', 'Queensland', 'New South Wales', 'Victoria','Tasmania']\n",
    "nb = {}\n",
    "nb['Western Australia'] = ['Northern Territory', 'South Australia']\n",
    "nb['Northern Territory'] = ['Western Australia', 'South Australia', 'Queensland']\n",
    "nb['South Australia'] = ['Western Australia', 'Northern Territory', 'Queensland', 'New South Wales', 'Victoria']\n",
    "nb['Queensland'] = ['Northern Territory', 'South Australia', 'New South Wales']\n",
    "nb['New South Wales'] = ['Queensland', 'South Australia', 'Victoria']\n",
    "nb['Victoria'] = ['South Australia', 'New South Wales']\n",
    "nb['Tasmania'] = []\n",
    "\n",
    "\n",
    "\n",
    "stateColor = {}\n",
    "\n",
    "\n",
    "def paintState(state):\n",
    "    for color in colors:\n",
    "        if checkColor(state, color):\n",
    "            return color\n",
    "\n",
    "            \n",
    "\n",
    "            \n",
    "\n",
    "def checkColor(state, color):\n",
    "\n",
    "    # print(\"Length of neighbor: \",len(neighbors))\n",
    "\n",
    "    for item in nb.get(state): \n",
    "\n",
    "        nbColor = stateColor.get(item)\n",
    "\n",
    "        if nbColor == color:\n",
    "\n",
    "            return False\n",
    "\n",
    "    return True\n",
    "\n",
    "\n",
    "\n",
    "for state in states:\n",
    "\n",
    "    stateColor[state] = paintState(state)\n",
    "\n",
    "\n",
    "print(stateColor)\n",
    "\n"
   ]
  },
  {
   "cell_type": "code",
   "execution_count": 1,
   "metadata": {},
   "outputs": [],
   "source": [
    "colors = ['Red', 'Blue', 'Green']\n",
    "\n",
    "states = ['Western Australia', 'Northern Territory', 'South Australia', 'Queensland', 'New South Wales', 'Victoria','Tasmania']\n",
    "nb = {}\n",
    "nb['Western Australia'] = ['Northern Territory', 'South Australia']\n",
    "nb['Northern Territory'] = ['Western Australia', 'South Australia', 'Queensland']\n",
    "nb['South Australia'] = ['Western Australia', 'Northern Territory', 'Queensland', 'New South Wales', 'Victoria']\n",
    "nb['Queensland'] = ['Northern Territory', 'South Australia', 'New South Wales']\n",
    "nb['New South Wales'] = ['Queensland', 'South Australia', 'Victoria']\n",
    "nb['Victoria'] = ['South Australia', 'New South Wales']\n",
    "nb['Tasmania'] = []\n",
    "\n",
    "\n",
    "\n",
    "def avail(n,gr,)"
   ]
  },
  {
   "cell_type": "code",
   "execution_count": 4,
   "metadata": {},
   "outputs": [
    {
     "data": {
      "text/plain": [
       "57"
      ]
     },
     "execution_count": 4,
     "metadata": {},
     "output_type": "execute_result"
    }
   ],
   "source": [
    "ord(\"9\")"
   ]
  },
  {
   "cell_type": "code",
   "execution_count": 5,
   "metadata": {},
   "outputs": [
    {
     "ename": "NameError",
     "evalue": "name 'char' is not defined",
     "output_type": "error",
     "traceback": [
      "\u001b[1;31m---------------------------------------------------------------------------\u001b[0m",
      "\u001b[1;31mNameError\u001b[0m                                 Traceback (most recent call last)",
      "Cell \u001b[1;32mIn[5], line 1\u001b[0m\n\u001b[1;32m----> 1\u001b[0m \u001b[43mchar\u001b[49m(\u001b[38;5;241m85\u001b[39m)\n",
      "\u001b[1;31mNameError\u001b[0m: name 'char' is not defined"
     ]
    }
   ],
   "source": []
  },
  {
   "cell_type": "code",
   "execution_count": null,
   "metadata": {},
   "outputs": [],
   "source": []
  }
 ],
 "metadata": {
  "kernelspec": {
   "display_name": "Python 3",
   "language": "python",
   "name": "python3"
  },
  "language_info": {
   "codemirror_mode": {
    "name": "ipython",
    "version": 3
   },
   "file_extension": ".py",
   "mimetype": "text/x-python",
   "name": "python",
   "nbconvert_exporter": "python",
   "pygments_lexer": "ipython3",
   "version": "3.12.1"
  }
 },
 "nbformat": 4,
 "nbformat_minor": 2
}
