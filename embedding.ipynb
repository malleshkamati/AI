{
 "cells": [
  {
   "cell_type": "code",
   "execution_count": 3,
   "metadata": {},
   "outputs": [
    {
     "name": "stdout",
     "output_type": "stream",
     "text": [
      "{0.5, 1.5, 3.5, 5.5}\n"
     ]
    }
   ],
   "source": [
    "lst=[3,1,7,11]\n",
    "s=set()\n",
    "for i in lst:\n",
    " \n",
    "    s.add(i/2)\n",
    "print(s)"
   ]
  },
  {
   "cell_type": "code",
   "execution_count": 5,
   "metadata": {},
   "outputs": [
    {
     "data": {
      "text/plain": [
       "True"
      ]
     },
     "execution_count": 5,
     "metadata": {},
     "output_type": "execute_result"
    }
   ],
   "source": [
    "def checkIfExist( arr):\n",
    "        \"\"\"\n",
    "        :type arr: List[int]\n",
    "        :rtype: bool\n",
    "        \"\"\"\n",
    "        if arr==[]:\n",
    "            return False\n",
    "        visited=set(arr)\n",
    "        for i in arr:\n",
    "            if 2*i in visited:\n",
    "                return True\n",
    "            \n",
    "        return False\n",
    "\n",
    "checkIfExist([-2,0,10,-19,4,6,-8])\n"
   ]
  },
  {
   "cell_type": "code",
   "execution_count": 4,
   "metadata": {},
   "outputs": [
    {
     "data": {
      "text/plain": [
       "False"
      ]
     },
     "execution_count": 4,
     "metadata": {},
     "output_type": "execute_result"
    }
   ],
   "source": [
    "def checkIfExist( arr):\n",
    "        \"\"\"\n",
    "        :type arr: List[int]\n",
    "        :rtype: bool\n",
    "        \"\"\"\n",
    "        if arr==[]:\n",
    "            return False\n",
    "        visited=set()\n",
    "        for i in arr:\n",
    "            if i/2 in visited:\n",
    "                return True\n",
    "            else:\n",
    "                visited.add(i)\n",
    "        return False\n",
    "\n",
    "checkIfExist([3,1,7,11])\n"
   ]
  },
  {
   "cell_type": "code",
   "execution_count": 5,
   "metadata": {},
   "outputs": [
    {
     "name": "stdout",
     "output_type": "stream",
     "text": [
      "Data inserted successfully!\n"
     ]
    }
   ],
   "source": [
    "from sentence_transformers import SentenceTransformer\n",
    "import psycopg2\n",
    "\n",
    "# Load the SentenceTransformer model\n",
    "model = SentenceTransformer(\"sentence-transformers/all-MiniLM-L6-v2\")\n",
    "\n",
    "# Sentences to insert\n",
    "sentences = [\n",
    "    \"I am planning to visit the market.\",\n",
    "    \"I am going to the market.\",\n",
    "    \"The cat is on the roof.\",\n",
    "    \"She is reading a book.\"\n",
    "]\n",
    "\n",
    "# Generate embeddings for each sentence\n",
    "embeddings = [model.encode(sentence).tolist() for sentence in sentences]\n",
    "\n",
    "# Connect to PostgreSQL\n",
    "conn = psycopg2.connect(\n",
    "    dbname=\"qa_db\", \n",
    "    user=\"postgres\",\n",
    "    password=\"Mallesh@123\",\n",
    "    host=\"localhost\",\n",
    "    port=\"5432\"\n",
    ")\n",
    "cursor = conn.cursor()\n",
    "\n",
    "# Insert sentences and embeddings into the database\n",
    "for sentence, embedding in zip(sentences, embeddings):\n",
    "    cursor.execute(\n",
    "        \"INSERT INTO sentence_embeddings (sentence, embedding) VALUES (%s, %s)\",\n",
    "        (sentence, embedding)\n",
    "    )\n",
    "\n",
    "# Commit and close connection\n",
    "conn.commit()\n",
    "cursor.close()\n",
    "conn.close()\n",
    "\n",
    "print(\"Data inserted successfully!\")\n"
   ]
  },
  {
   "cell_type": "code",
   "execution_count": 9,
   "metadata": {},
   "outputs": [
    {
     "name": "stdout",
     "output_type": "stream",
     "text": [
      "Similarity with 'I am planning to visit the market.': 0.950498640537262\n",
      "Similarity with 'I am going to the market.': 0.8778281211853027\n",
      "Similarity with 'The cat is on the roof.': -0.017521526664495468\n",
      "Similarity with 'She is reading a book.': 0.03822552040219307\n"
     ]
    }
   ],
   "source": [
    "from sentence_transformers import SentenceTransformer, util\n",
    "import psycopg2\n",
    "import numpy as np\n",
    "import json  # For deserializing JSON-encoded embeddings\n",
    "\n",
    "# Load the SentenceTransformer model\n",
    "model = SentenceTransformer(\"sentence-transformers/all-MiniLM-L6-v2\")\n",
    "\n",
    "# Query a sentence to compare\n",
    "query_sentence = \"I plan to visit the market.\"\n",
    "query_embedding = model.encode(query_sentence)\n",
    "\n",
    "# Connect to PostgreSQL\n",
    "conn = psycopg2.connect(\n",
    "    dbname=\"qa_db\", \n",
    "    user=\"postgres\",\n",
    "    password=\"Mallesh@123\",\n",
    "    host=\"localhost\",\n",
    "    port=\"5432\"\n",
    ")\n",
    "cursor = conn.cursor()\n",
    "\n",
    "# Fetch embeddings from the database\n",
    "cursor.execute(\"SELECT sentence, embedding FROM sentence_embeddings\")\n",
    "rows = cursor.fetchall()\n",
    "\n",
    "# Compare query embedding with stored embeddings\n",
    "for row in rows:\n",
    "    stored_sentence = row[0]\n",
    "    stored_embedding = np.array(json.loads(row[1]), dtype=np.float32)  # Convert JSON string to NumPy array\n",
    "    similarity = util.pytorch_cos_sim(query_embedding, stored_embedding)\n",
    "    print(f\"Similarity with '{stored_sentence}': {similarity.item()}\")\n",
    "\n",
    "cursor.close()\n",
    "conn.close()\n"
   ]
  },
  {
   "cell_type": "markdown",
   "metadata": {},
   "source": []
  },
  {
   "cell_type": "code",
   "execution_count": 18,
   "metadata": {},
   "outputs": [
    {
     "data": {
      "text/plain": [
       "tensor([[0.7935]], device='cuda:0')"
      ]
     },
     "execution_count": 18,
     "metadata": {},
     "output_type": "execute_result"
    }
   ],
   "source": [
    "\n",
    "# Import the Sentence Transformer library\n",
    "from sentence_transformers import SentenceTransformer, util\n",
    "\n",
    "# There are several different Sentence Transformer models available on Hugging Face\n",
    "model = SentenceTransformer(\"sentence-transformers/all-MiniLM-L6-v2\")\n",
    "\n",
    "sent1 = \"I plannning to visit market\"\n",
    "sent2 = \" I am going to market\"\n",
    "\n",
    "# Convert the sentences into embeddings using the Sentence Transformer\n",
    "sent_embedding1 = model.encode(sent1,convert_to_tensor=True)\n",
    "sent_embedding2 = model.encode(sent2,convert_to_tensor=True)\n",
    "\n",
    "# Find the similarity between the two embeddings\n",
    "util.pytorch_cos_sim(sent_embedding1, sent_embedding2)"
   ]
  },
  {
   "cell_type": "code",
   "execution_count": 1,
   "metadata": {},
   "outputs": [
    {
     "name": "stdout",
     "output_type": "stream",
     "text": [
      "False\n"
     ]
    }
   ],
   "source": [
    "if(0.1+0.2==0.3):\n",
    "    print(\"True\")\n",
    "else:\n",
    "    print(\"False\")"
   ]
  },
  {
   "cell_type": "code",
   "execution_count": 2,
   "metadata": {},
   "outputs": [
    {
     "data": {
      "text/plain": [
       "0.30000000000000004"
      ]
     },
     "execution_count": 2,
     "metadata": {},
     "output_type": "execute_result"
    }
   ],
   "source": [
    "0.1+0.2"
   ]
  },
  {
   "cell_type": "code",
   "execution_count": 3,
   "metadata": {},
   "outputs": [
    {
     "name": "stdout",
     "output_type": "stream",
     "text": [
      "Original array: [170, 45, 75, 90, 802, 24, 2, 66]\n",
      "Sorted array: [2, 24, 45, 66, 75, 90, 170, 802]\n"
     ]
    }
   ],
   "source": [
    "# Function to perform Counting Sort based on the digit represented by exp\n",
    "def counting_sort(arr, exp):\n",
    "    n = len(arr)\n",
    "    \n",
    "    # Output array to store sorted array\n",
    "    output = [0] * n\n",
    "    \n",
    "    # Initialize count array with 10 elements (for digits 0-9)\n",
    "    count = [0] * 10\n",
    "    \n",
    "    # Store the count of occurrences of digits (0-9) for the current digit (exp)\n",
    "    for i in range(n):\n",
    "        index = arr[i] // exp\n",
    "        count[index % 10] += 1\n",
    "    \n",
    "    # Change count so that it contains the actual position of this digit in output[]\n",
    "    for i in range(1, 10):\n",
    "        count[i] += count[i - 1]\n",
    "    \n",
    "    # Build the output array by placing the numbers in their correct positions\n",
    "    i = n - 1\n",
    "    while i >= 0:\n",
    "        index = arr[i] // exp\n",
    "        output[count[index % 10] - 1] = arr[i]\n",
    "        count[index % 10] -= 1\n",
    "        i -= 1\n",
    "    \n",
    "    \n",
    "    # Copy the output array to arr[], so that arr now contains sorted numbers\n",
    "    for i in range(n):\n",
    "        arr[i] = output[i]\n",
    "\n",
    "# Function to do Radix Sort\n",
    "def radix_sort(arr):\n",
    "    # Find the maximum number to know the number of digits\n",
    "    max_num = max(arr)\n",
    "    \n",
    "    # Apply counting sort to each digit. exp is 10^i where i is the current digit number\n",
    "    exp = 1\n",
    "    while max_num // exp > 0:\n",
    "        counting_sort(arr, exp)\n",
    "        exp *= 10\n",
    "\n",
    "# Example usage:\n",
    "arr = [170, 45, 75, 90, 802, 24, 2, 66]\n",
    "print(\"Original array:\", arr)\n",
    "radix_sort(arr)\n",
    "print(\"Sorted array:\", arr)\n"
   ]
  },
  {
   "cell_type": "code",
   "execution_count": 25,
   "metadata": {},
   "outputs": [
    {
     "name": "stdout",
     "output_type": "stream",
     "text": [
      "True\n"
     ]
    }
   ],
   "source": [
    "if(0.4+0.3==0.7):\n",
    "    print(True)\n",
    "else:\n",
    "    print(False)"
   ]
  },
  {
   "cell_type": "code",
   "execution_count": null,
   "metadata": {},
   "outputs": [],
   "source": []
  },
  {
   "cell_type": "code",
   "execution_count": null,
   "metadata": {},
   "outputs": [],
   "source": []
  },
  {
   "cell_type": "code",
   "execution_count": null,
   "metadata": {},
   "outputs": [],
   "source": []
  },
  {
   "cell_type": "code",
   "execution_count": null,
   "metadata": {},
   "outputs": [],
   "source": []
  },
  {
   "cell_type": "markdown",
   "metadata": {},
   "source": []
  },
  {
   "cell_type": "code",
   "execution_count": null,
   "metadata": {},
   "outputs": [],
   "source": []
  },
  {
   "cell_type": "code",
   "execution_count": null,
   "metadata": {},
   "outputs": [],
   "source": []
  },
  {
   "cell_type": "code",
   "execution_count": 5,
   "metadata": {},
   "outputs": [
    {
     "data": {
      "text/plain": [
       "tensor([[0.2468]], device='cuda:0')"
      ]
     },
     "execution_count": 5,
     "metadata": {},
     "output_type": "execute_result"
    }
   ],
   "source": [
    "\n",
    "\n",
    "# Import the Sentence Transformer library\n",
    "from sentence_transformers import SentenceTransformer, util\n",
    "\n",
    "# There are several different Sentence Transformer models available on Hugging Face\n",
    "model = SentenceTransformer(\"sentence-transformers/all-MiniLM-L6-v2\")\n",
    "\n",
    "sent1 = \"I am a boy.\"\n",
    "sent2 = \"What are you doing?\"\n",
    "\n",
    "# Convert the sentences into embeddings using the Sentence Transformer\n",
    "sent_embedding1 = model.encode(sent1,convert_to_tensor=True)\n",
    "sent_embedding2 = model.encode(sent2,convert_to_tensor=True)\n",
    "\n",
    "# Find the similarity between the two embeddings\n",
    "util.pytorch_cos_sim(sent_embedding1, sent_embedding2)"
   ]
  }
 ],
 "metadata": {
  "kernelspec": {
   "display_name": "Python 3",
   "language": "python",
   "name": "python3"
  },
  "language_info": {
   "codemirror_mode": {
    "name": "ipython",
    "version": 3
   },
   "file_extension": ".py",
   "mimetype": "text/x-python",
   "name": "python",
   "nbconvert_exporter": "python",
   "pygments_lexer": "ipython3",
   "version": "3.12.1"
  }
 },
 "nbformat": 4,
 "nbformat_minor": 2
}
